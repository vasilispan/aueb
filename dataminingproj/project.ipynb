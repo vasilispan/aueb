{
 "cells": [
  {
   "cell_type": "code",
   "execution_count": 1,
   "metadata": {
    "collapsed": true
   },
   "outputs": [],
   "source": [
    "import numpy as np\n",
    "import networkx as nx\n",
    "import matplotlib.pyplot as plt\n",
    "%matplotlib inline"
   ]
  },
  {
   "cell_type": "code",
   "execution_count": 3,
   "metadata": {},
   "outputs": [],
   "source": [
    "netscience_gml = nx.read_gml(\"datasets/netscience2.gml\")\n",
    "#first two lines of the graph are modified\n",
    "#lets set weights = 1 and make it undirected\n",
    "G = netscience_gml.to_undirected()\n",
    "for u,v,d in G.edges(data=True):\n",
    "    G[u][v]['value']=1"
   ]
  },
  {
   "cell_type": "code",
   "execution_count": 4,
   "metadata": {},
   "outputs": [],
   "source": [
    "# Lets see what it looks like\n",
    "# nx.draw_networkx(netscience)\n",
    "# netscience.nodes()[1]\n",
    "# for e in netscience.nodes():\n",
    "#     print(list(nx.bfs_edges(netscience,e)))"
   ]
  },
  {
   "cell_type": "code",
   "execution_count": 16,
   "metadata": {},
   "outputs": [],
   "source": [
    "# get list of edges and nodes\n",
    "edges = list([e for e in G.edges_iter()])\n",
    "nodes = list([e for e in G.nodes_iter()])\n",
    "#see first 5 edes and nodes"
   ]
  },
  {
   "cell_type": "code",
   "execution_count": 17,
   "metadata": {
    "scrolled": true
   },
   "outputs": [
    {
     "data": {
      "text/plain": [
       "[('TERMAN, D', 'WANG, D'),\n",
       " ('ASHWIN, P', 'STEWART, I'),\n",
       " ('ASHWIN, P', 'BUESCU, J'),\n",
       " ('SCHRAG, S', 'NEWMAN, M'),\n",
       " ('SCHRAG, S', 'ANCELMEYERS, L')]"
      ]
     },
     "execution_count": 17,
     "metadata": {},
     "output_type": "execute_result"
    }
   ],
   "source": [
    "edges[:5]"
   ]
  },
  {
   "cell_type": "code",
   "execution_count": 18,
   "metadata": {},
   "outputs": [
    {
     "data": {
      "text/plain": [
       "['TERMAN, D', 'ASHWIN, P', 'SCHRAG, S', 'TUSNADY, G', 'KORTE, C']"
      ]
     },
     "execution_count": 18,
     "metadata": {},
     "output_type": "execute_result"
    }
   ],
   "source": [
    "nodes[:5]"
   ]
  },
  {
   "cell_type": "code",
   "execution_count": null,
   "metadata": {
    "collapsed": true
   },
   "outputs": [],
   "source": []
  }
 ],
 "metadata": {
  "anaconda-cloud": {},
  "kernelspec": {
   "display_name": "Python [conda root]",
   "language": "python",
   "name": "conda-root-py"
  },
  "language_info": {
   "codemirror_mode": {
    "name": "ipython",
    "version": 3
   },
   "file_extension": ".py",
   "mimetype": "text/x-python",
   "name": "python",
   "nbconvert_exporter": "python",
   "pygments_lexer": "ipython3",
   "version": "3.5.2"
  }
 },
 "nbformat": 4,
 "nbformat_minor": 1
}
