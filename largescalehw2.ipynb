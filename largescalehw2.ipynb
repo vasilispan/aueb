{
 "cells": [
  {
   "cell_type": "code",
   "execution_count": null,
   "metadata": {
    "collapsed": true
   },
   "outputs": [],
   "source": [
    "import pandas as pd\n",
    "import multiprocessing as mp\n",
    "import numpy as np\n",
    "from datetime import datetime"
   ]
  },
  {
   "cell_type": "code",
   "execution_count": null,
   "metadata": {
    "collapsed": false
   },
   "outputs": [],
   "source": [
    "test = [\"D:\\homework2\\hw2-rdf-2016_test\\hw2-rdf-2016_test.txt\"]\n",
    "files = []\n",
    "for i in range(1,2):\n",
    "    files.append(\"D:\\homework2\\data\\hw2-rdf-2016_1\\hw2-rdf-2016_{}.dat\".format(str(i)))"
   ]
  },
  {
   "cell_type": "markdown",
   "metadata": {},
   "source": [
    "Function that does the work"
   ]
  },
  {
   "cell_type": "code",
   "execution_count": null,
   "metadata": {
    "collapsed": false,
    "scrolled": true
   },
   "outputs": [],
   "source": [
    "def dothejob(input,finaldf):\n",
    "    #tdf = pd.DataFrame(columns = ['SUBJECT', 'EDGES'])\n",
    "    for f in input:\n",
    "        with open(f,'r') as f:\n",
    "            i = 0\n",
    "            reader = pd.read_table(f, header=None, chunksize = chunkk)\n",
    "            for df in reader:\n",
    "                #print(df)\n",
    "                df = df[0].str.split(\" \", expand=True)\n",
    "                df['EDGES'] = df.stack().str.contains(r'^\\\"|<|_:').astype(np.uint8).sum(level=0)-1\n",
    "                df[df['EDGES'] >= 3] = 3\n",
    "                df[df['EDGES'] <= 2] = 2\n",
    "                df.rename(columns={0:'SUBJECT'}, inplace=True)\n",
    "                finaldf = finaldf.append(df[['SUBJECT','EDGES']], ignore_index=True)\n",
    "                # Delete the original file dataframe\n",
    "                del df\n",
    "                #finaldf = finaldf.groupby('SUBJECT', as_index=False).sum()\n",
    "                i += chunkk\n",
    "                print(\"\\nCompleted {} rows frol file {}\".format(str(i),str(f).split(\"'\")[1]))   \n",
    "                #finaldf = finaldf.append(df[['SUBJECT','EDGES']], ignore_index=True)        \n",
    "                finaldf = finaldf.groupby('SUBJECT', as_index=False).sum()\n",
    "    return finaldf"
   ]
  },
  {
   "cell_type": "code",
   "execution_count": null,
   "metadata": {
    "collapsed": false,
    "scrolled": false
   },
   "outputs": [],
   "source": [
    "tdf = pd.DataFrame(columns = ['SUBJECT', 'EDGES'])\n",
    "chunkk = 50000\n",
    "t1=datetime.now()\n",
    "tdf = dothejob(files,tdf)    # WILL RUN FOR FIRST FILE ONLY\n",
    "print(\"\\n Execution time: {}\".format(datetime.now() - t1))\n",
    "\n",
    "#tdf['y'] = 1\n",
    "#tdf = tdf[['EDGES','y']].groupby('EDGES', as_index=False).sum()\n",
    "print(tdf)\n",
    "print(tdf.shape)"
   ]
  },
  {
   "cell_type": "code",
   "execution_count": null,
   "metadata": {
    "collapsed": true
   },
   "outputs": [],
   "source": []
  }
 ],
 "metadata": {
  "anaconda-cloud": {},
  "kernelspec": {
   "display_name": "Python [conda root]",
   "language": "python",
   "name": "conda-root-py"
  },
  "language_info": {
   "codemirror_mode": {
    "name": "ipython",
    "version": 3
   },
   "file_extension": ".py",
   "mimetype": "text/x-python",
   "name": "python",
   "nbconvert_exporter": "python",
   "pygments_lexer": "ipython3",
   "version": "3.5.2"
  }
 },
 "nbformat": 4,
 "nbformat_minor": 1
}
