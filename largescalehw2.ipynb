{
 "cells": [
  {
   "cell_type": "code",
   "execution_count": null,
   "metadata": {
    "collapsed": true
   },
   "outputs": [],
   "source": [
    "import pandas as pd\n",
    "import multiprocessing as mp\n",
    "import numpy as np\n",
    "from datetime import datetime\n",
    "import os\n",
    "import errno"
   ]
  },
  {
   "cell_type": "markdown",
   "metadata": {},
   "source": [
    "Specify Test , Output, Files"
   ]
  },
  {
   "cell_type": "code",
   "execution_count": null,
   "metadata": {
    "collapsed": false
   },
   "outputs": [],
   "source": [
    "test = [\"D:\\homework2\\hw2-rdf-2016_test\\hw2-rdf-2016_test.txt\"]\n",
    "files = []\n",
    "for i in range(1,2):\n",
    "    files.append(\"D:\\homework2\\data\\hw2-rdf-2016_1\\hw2-rdf-2016_{}.dat\".format(str(i)))\n",
    "output_file = \"D:\\homework2\\output\\output_final.csv\"    "
   ]
  },
  {
   "cell_type": "markdown",
   "metadata": {},
   "source": [
    "Function that does the work"
   ]
  },
  {
   "cell_type": "code",
   "execution_count": null,
   "metadata": {
    "collapsed": false,
    "scrolled": true
   },
   "outputs": [],
   "source": [
    "def dothejob(input):  \n",
    "    for f in input:\n",
    "        with open(f,'r') as f:\n",
    "            print(\"Now working on file {} \".format(str(f).split(\"'\")[1]))\n",
    "            reader = pd.read_table(f, header=None,chunksize=50000) \n",
    "            for read_chunk in reader:    # start reading in chunks\n",
    "                read_chunk=read_chunk[0].str.split(\" \", expand=True)\n",
    "                read_chunk['EDGES'] = read_chunk.stack().str.contains(r'^\\\"|<|_:').astype(np.uint8).sum(level=0)-1\n",
    "                read_chunk[read_chunk['EDGES'] >= 3] = 3\n",
    "                read_chunk[read_chunk['EDGES'] <=2] =2 \n",
    "                read_chunk.rename(columns={0:'SUBJECT'}, inplace=True)\n",
    "                #append the so-far read chunk into df_temp , which later will be writter to csv\n",
    "                df_temp.append(read_chunk[['SUBJECT','EDGES']], ignore_index=True)\n",
    "                #df_temp = df_temp.groupby('SUBJECT', as_index=False).sum()\n",
    "                del read_chunk   ### delete the read chunk and iterate loop for next 50000 lines\n",
    "            writetofile(df_temp)   #### write to csv\n",
    "                \n",
    "def writetofile(somedf):\n",
    "    #if not os.path.exists(output_file):\n",
    "    #    open(output_file, 'w').close() \n",
    "    with open(output_file,'a+') as final:\n",
    "        df_temp.to_csv(final)\n",
    "\n",
    "        \n",
    "#### create an empty dataframe\n",
    "df_temp = pd.DataFrame()\n",
    "df_temp = df_temp.fillna(0) # with 0s rather than NaNs\n",
    "#### created a temp dataframe\n",
    "\n",
    "#  RUN\n",
    "t1 = datetime.now()\n",
    "dothejob(files)    # WILL RUN FOR FIRST FILE ONLY\n",
    "print(\"finished after {} \".format(datetime.now() - t1))"
   ]
  },
  {
   "cell_type": "code",
   "execution_count": null,
   "metadata": {
    "collapsed": true
   },
   "outputs": [],
   "source": []
  }
 ],
 "metadata": {
  "anaconda-cloud": {},
  "kernelspec": {
   "display_name": "Python [conda root]",
   "language": "python",
   "name": "conda-root-py"
  },
  "language_info": {
   "codemirror_mode": {
    "name": "ipython",
    "version": 3
   },
   "file_extension": ".py",
   "mimetype": "text/x-python",
   "name": "python",
   "nbconvert_exporter": "python",
   "pygments_lexer": "ipython3",
   "version": "3.5.2"
  }
 },
 "nbformat": 4,
 "nbformat_minor": 1
}
