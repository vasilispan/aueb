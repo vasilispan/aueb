{
 "cells": [
  {
   "cell_type": "code",
   "execution_count": 1,
   "metadata": {
    "collapsed": false
   },
   "outputs": [],
   "source": [
    "from sklearn.preprocessing import OneHotEncoder\n",
    "import numpy as np\n",
    "import matplotlib.pyplot as plt\n",
    "from PIL import Image as image\n",
    "import pandas as pd\n",
    "%matplotlib inline"
   ]
  },
  {
   "cell_type": "code",
   "execution_count": 2,
   "metadata": {
    "collapsed": true
   },
   "outputs": [],
   "source": [
    "test=[]\n",
    "for i in range(0,10):\n",
    "    test.append(\"D:/mnistdata/test{}.txt\".format(str(i)))\n",
    "train=[]\n",
    "for i in range(0,10):\n",
    "    train.append(\"D:/mnistdata/train{}.txt\".format(str(i)))"
   ]
  },
  {
   "cell_type": "code",
   "execution_count": 3,
   "metadata": {
    "collapsed": false,
    "scrolled": true
   },
   "outputs": [],
   "source": [
    "def saveimages(files):\n",
    "    for f in files:\n",
    "        print(f)\n",
    "        number=np.loadtxt(f)\n",
    "        for n in range(16):\n",
    "        #for n in range(len(number)):  \n",
    "            nn = np.reshape(number[n],(28,28))\n",
    "            im = image.fromarray(nn).convert('L')\n",
    "            #im.save(\"D:/images/im{}.png\".format(n))\n",
    "            #plt.show(im)\n",
    "            #plt.subplot(100,100,n+1)\n",
    "            #plt.subplot(211,len(number),n+1)\n",
    "            plt.subplot(4,4,n+1)\n",
    "            #plt.subplot(number.shape[0]//5,5,n+1)\n",
    "            plt.axis('off')\n",
    "            plt.imshow(im,cmap=plt.cm.gray_r)\n",
    "            \n",
    "def read_data():\n",
    "    '''to access 0 you need xxx_set[0][:], to access 1 you need xxx_set[1][:] and so on'''\n",
    "    #testdata\n",
    "    testdata= []\n",
    "    for f in test:\n",
    "        testdata.append(np.loadtxt(f))\n",
    "    finaltest=np.array(testdata)\n",
    "    #traindata\n",
    "    traindata = []\n",
    "    for f in train:\n",
    "        traindata.append(np.loadtxt(f))\n",
    "    finaltrain = np.array(traindata)\n",
    "    return finaltest,finaltrain\n",
    "\n",
    "def getdf(type):\n",
    "    tables = []\n",
    "    for i in range(10):\n",
    "        temp_df = pd.read_csv('D:/mnistdata/{}{}.txt'.format(str(type),i),sep = ' ', names = range(784))\n",
    "        if str(type) == 'train':\n",
    "            temp_df['target'] = i\n",
    "        tables.append(temp_df)\n",
    "    tables = pd.concat(tables)\n",
    "    return tables\n",
    "\n",
    "#testset,trainset = read_data()"
   ]
  },
  {
   "cell_type": "code",
   "execution_count": 8,
   "metadata": {
    "collapsed": false
   },
   "outputs": [],
   "source": [
    "train_X = getdf('train')\n",
    "train_X.sample(10)\n",
    "# create train_y \n",
    "enc = OneHotEncoder()\n",
    "train_Y = enc.fit_transform(train_X['target'].reshape(-1,1)).toarray()"
   ]
  },
  {
   "cell_type": "code",
   "execution_count": 34,
   "metadata": {
    "collapsed": false
   },
   "outputs": [
    {
     "name": "stdout",
     "output_type": "stream",
     "text": [
      "train_x is (60000, 785) and train_Y is (60000, 10)\n"
     ]
    }
   ],
   "source": [
    "train_X.shape\n",
    "train_Y.shape\n",
    "print('train_x is {} and train_Y is {}'.format(train_X.shape,train_Y.shape))"
   ]
  },
  {
   "cell_type": "code",
   "execution_count": 37,
   "metadata": {
    "collapsed": false
   },
   "outputs": [],
   "source": [
    "# in order to access eg the first row of the train_X use .iloc[0]\n",
    "# to see all rows whose target is in range (0..9) use train_X.loc[trainX['target'] == 0]"
   ]
  },
  {
   "cell_type": "code",
   "execution_count": 39,
   "metadata": {
    "collapsed": false
   },
   "outputs": [
    {
     "data": {
      "text/html": [
       "<div>\n",
       "<table border=\"1\" class=\"dataframe\">\n",
       "  <thead>\n",
       "    <tr style=\"text-align: right;\">\n",
       "      <th></th>\n",
       "      <th>0</th>\n",
       "      <th>1</th>\n",
       "      <th>2</th>\n",
       "      <th>3</th>\n",
       "      <th>4</th>\n",
       "      <th>5</th>\n",
       "      <th>6</th>\n",
       "      <th>7</th>\n",
       "      <th>8</th>\n",
       "      <th>9</th>\n",
       "      <th>...</th>\n",
       "      <th>775</th>\n",
       "      <th>776</th>\n",
       "      <th>777</th>\n",
       "      <th>778</th>\n",
       "      <th>779</th>\n",
       "      <th>780</th>\n",
       "      <th>781</th>\n",
       "      <th>782</th>\n",
       "      <th>783</th>\n",
       "      <th>target</th>\n",
       "    </tr>\n",
       "  </thead>\n",
       "  <tbody>\n",
       "    <tr>\n",
       "      <th>4354</th>\n",
       "      <td>0</td>\n",
       "      <td>0</td>\n",
       "      <td>0</td>\n",
       "      <td>0</td>\n",
       "      <td>0</td>\n",
       "      <td>0</td>\n",
       "      <td>0</td>\n",
       "      <td>0</td>\n",
       "      <td>0</td>\n",
       "      <td>0</td>\n",
       "      <td>...</td>\n",
       "      <td>0</td>\n",
       "      <td>0</td>\n",
       "      <td>0</td>\n",
       "      <td>0</td>\n",
       "      <td>0</td>\n",
       "      <td>0</td>\n",
       "      <td>0</td>\n",
       "      <td>0</td>\n",
       "      <td>0</td>\n",
       "      <td>0</td>\n",
       "    </tr>\n",
       "    <tr>\n",
       "      <th>3096</th>\n",
       "      <td>0</td>\n",
       "      <td>0</td>\n",
       "      <td>0</td>\n",
       "      <td>0</td>\n",
       "      <td>0</td>\n",
       "      <td>0</td>\n",
       "      <td>0</td>\n",
       "      <td>0</td>\n",
       "      <td>0</td>\n",
       "      <td>0</td>\n",
       "      <td>...</td>\n",
       "      <td>0</td>\n",
       "      <td>0</td>\n",
       "      <td>0</td>\n",
       "      <td>0</td>\n",
       "      <td>0</td>\n",
       "      <td>0</td>\n",
       "      <td>0</td>\n",
       "      <td>0</td>\n",
       "      <td>0</td>\n",
       "      <td>0</td>\n",
       "    </tr>\n",
       "    <tr>\n",
       "      <th>4408</th>\n",
       "      <td>0</td>\n",
       "      <td>0</td>\n",
       "      <td>0</td>\n",
       "      <td>0</td>\n",
       "      <td>0</td>\n",
       "      <td>0</td>\n",
       "      <td>0</td>\n",
       "      <td>0</td>\n",
       "      <td>0</td>\n",
       "      <td>0</td>\n",
       "      <td>...</td>\n",
       "      <td>0</td>\n",
       "      <td>0</td>\n",
       "      <td>0</td>\n",
       "      <td>0</td>\n",
       "      <td>0</td>\n",
       "      <td>0</td>\n",
       "      <td>0</td>\n",
       "      <td>0</td>\n",
       "      <td>0</td>\n",
       "      <td>0</td>\n",
       "    </tr>\n",
       "    <tr>\n",
       "      <th>4870</th>\n",
       "      <td>0</td>\n",
       "      <td>0</td>\n",
       "      <td>0</td>\n",
       "      <td>0</td>\n",
       "      <td>0</td>\n",
       "      <td>0</td>\n",
       "      <td>0</td>\n",
       "      <td>0</td>\n",
       "      <td>0</td>\n",
       "      <td>0</td>\n",
       "      <td>...</td>\n",
       "      <td>0</td>\n",
       "      <td>0</td>\n",
       "      <td>0</td>\n",
       "      <td>0</td>\n",
       "      <td>0</td>\n",
       "      <td>0</td>\n",
       "      <td>0</td>\n",
       "      <td>0</td>\n",
       "      <td>0</td>\n",
       "      <td>0</td>\n",
       "    </tr>\n",
       "    <tr>\n",
       "      <th>2579</th>\n",
       "      <td>0</td>\n",
       "      <td>0</td>\n",
       "      <td>0</td>\n",
       "      <td>0</td>\n",
       "      <td>0</td>\n",
       "      <td>0</td>\n",
       "      <td>0</td>\n",
       "      <td>0</td>\n",
       "      <td>0</td>\n",
       "      <td>0</td>\n",
       "      <td>...</td>\n",
       "      <td>0</td>\n",
       "      <td>0</td>\n",
       "      <td>0</td>\n",
       "      <td>0</td>\n",
       "      <td>0</td>\n",
       "      <td>0</td>\n",
       "      <td>0</td>\n",
       "      <td>0</td>\n",
       "      <td>0</td>\n",
       "      <td>0</td>\n",
       "    </tr>\n",
       "  </tbody>\n",
       "</table>\n",
       "<p>5 rows × 785 columns</p>\n",
       "</div>"
      ],
      "text/plain": [
       "      0  1  2  3  4  5  6  7  8  9   ...    775  776  777  778  779  780  781  \\\n",
       "4354  0  0  0  0  0  0  0  0  0  0   ...      0    0    0    0    0    0    0   \n",
       "3096  0  0  0  0  0  0  0  0  0  0   ...      0    0    0    0    0    0    0   \n",
       "4408  0  0  0  0  0  0  0  0  0  0   ...      0    0    0    0    0    0    0   \n",
       "4870  0  0  0  0  0  0  0  0  0  0   ...      0    0    0    0    0    0    0   \n",
       "2579  0  0  0  0  0  0  0  0  0  0   ...      0    0    0    0    0    0    0   \n",
       "\n",
       "      782  783  target  \n",
       "4354    0    0       0  \n",
       "3096    0    0       0  \n",
       "4408    0    0       0  \n",
       "4870    0    0       0  \n",
       "2579    0    0       0  \n",
       "\n",
       "[5 rows x 785 columns]"
      ]
     },
     "execution_count": 39,
     "metadata": {},
     "output_type": "execute_result"
    }
   ],
   "source": [
    "train_X.loc[train_X['target']== 0].sample(5)"
   ]
  },
  {
   "cell_type": "code",
   "execution_count": 40,
   "metadata": {
    "collapsed": true
   },
   "outputs": [],
   "source": [
    "test_X = getdf('test')\n",
    "test_X"
   ]
  },
  {
   "cell_type": "code",
   "execution_count": null,
   "metadata": {
    "collapsed": true
   },
   "outputs": [],
   "source": []
  }
 ],
 "metadata": {
  "anaconda-cloud": {},
  "kernelspec": {
   "display_name": "Python [conda root]",
   "language": "python",
   "name": "conda-root-py"
  },
  "language_info": {
   "codemirror_mode": {
    "name": "ipython",
    "version": 3
   },
   "file_extension": ".py",
   "mimetype": "text/x-python",
   "name": "python",
   "nbconvert_exporter": "python",
   "pygments_lexer": "ipython3",
   "version": "3.5.2"
  }
 },
 "nbformat": 4,
 "nbformat_minor": 1
}
