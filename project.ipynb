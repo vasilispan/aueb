{
 "cells": [
  {
   "cell_type": "markdown",
   "metadata": {},
   "source": [
    "#### Chrysanthos Lianos\n",
    "#### MSc Data Science 2016 Part Time\n",
    "#### Machine Learning and Computational statistics Project\n",
    "\n",
    "### First Part"
   ]
  },
  {
   "cell_type": "code",
   "execution_count": 13,
   "metadata": {
    "collapsed": true
   },
   "outputs": [],
   "source": [
    "from sklearn.preprocessing import OneHotEncoder\n",
    "import numpy as np\n",
    "import matplotlib.pyplot as plt\n",
    "from PIL import Image as image\n",
    "import pandas as pd\n",
    "import scipy \n",
    "%matplotlib inline"
   ]
  },
  {
   "cell_type": "code",
   "execution_count": 54,
   "metadata": {
    "collapsed": true,
    "scrolled": true
   },
   "outputs": [],
   "source": [
    "def getdf(type):\n",
    "    tables = []\n",
    "    for i in range(10):\n",
    "        temp_df = pd.read_csv('D:/mnistdata/{}{}.txt'.format(str(type),i),sep = ' ', names = range(784))\n",
    "        temp_df['target'] = i\n",
    "        tables.append(temp_df)\n",
    "    tables = pd.concat(tables)\n",
    "    return tables\n",
    "\n",
    "#testset,trainset = read_data()"
   ]
  },
  {
   "cell_type": "markdown",
   "metadata": {},
   "source": [
    "Now get the data\n",
    "train_X is the set of training data, test_X is test\n",
    "train_Y is the OneHot column for train_X and also has column which is aggregation of values eg 0: 100000000"
   ]
  },
  {
   "cell_type": "code",
   "execution_count": 84,
   "metadata": {},
   "outputs": [],
   "source": [
    "train_X = getdf('train')\n",
    "test_X = getdf('test')\n",
    "#yyy = oneHotIt(train_X)\n",
    "# create train_y \n",
    "enc = OneHotEncoder(dtype='int') # create int type to concatenate later\n",
    "train_Y = np.asmatrix(enc.fit_transform(train_X['target'].reshape(-1,1)).toarray())\n",
    "test_Y =  np.asmatrix(enc.fit_transform(test_X['target'].reshape(-1,1)).toarray())\n",
    "#train_Y = pd.DataFrame(enc.fit_transform(train_X['target'].reshape(-1,1)).toarray()) #training for Y\n",
    "#train_Y['aggr'] = train_Y.apply(lambda row: ''.join(map(str, row)), axis=1)\n",
    "# in order to access eg the first row of the train_X use .iloc[0]\n",
    "# to see all rows whose target is in range (0..9) use train_X.loc[trainX['target'] == 0]\n",
    "#train_X.loc[train_X['target']== 0].sample(5)\n",
    "#len(train_X.loc[train_X['target']== 1])\n",
    "# X is train_X.ix[:,:784] and Y is train_X['target']\n",
    "X = train_X.ix[:,:784]\n",
    "# add 1 infront of X\n",
    "X.insert(0,'ones',1)\n",
    "t = train_X['target']\n",
    "N,D = X.shape\n",
    "#set params\n",
    "l = 0.5\n",
    "winit = np.zeros(D)\n",
    "options = [500,1/1000000 ,8/N]  # accuracy of 6 decimal places"
   ]
  },
  {
   "cell_type": "code",
   "execution_count": 85,
   "metadata": {},
   "outputs": [
    {
     "name": "stdout",
     "output_type": "stream",
     "text": [
      "Iteration: 0, Cost function: [[ 2949.99790016  3359.49790016  2967.49790016  3053.99790016\n",
      "   2909.49790016  2698.99790016  2947.49790016  3120.99790016\n",
      "   2913.99790016  2962.99790016]]\n"
     ]
    },
    {
     "ename": "ValueError",
     "evalue": "The truth value of an array with more than one element is ambiguous. Use a.any() or a.all()",
     "output_type": "error",
     "traceback": [
      "\u001b[1;31m---------------------------------------------------------------------------\u001b[0m",
      "\u001b[1;31mValueError\u001b[0m                                Traceback (most recent call last)",
      "\u001b[1;32m<ipython-input-85-f2acd9745e25>\u001b[0m in \u001b[0;36m<module>\u001b[1;34m()\u001b[0m\n\u001b[0;32m     29\u001b[0m \u001b[1;31m#w = ml_logregTrain(train_Y['aggr'], X, l, winit, options)\u001b[0m\u001b[1;33m\u001b[0m\u001b[1;33m\u001b[0m\u001b[0m\n\u001b[0;32m     30\u001b[0m \u001b[1;31m#w = ml_logregTrain(train_X['target'],X,l,winit,options)\u001b[0m\u001b[1;33m\u001b[0m\u001b[1;33m\u001b[0m\u001b[0m\n\u001b[1;32m---> 31\u001b[1;33m \u001b[0mw\u001b[0m \u001b[1;33m=\u001b[0m \u001b[0mml_logregTrain\u001b[0m\u001b[1;33m(\u001b[0m\u001b[0mtrain_Y\u001b[0m\u001b[1;33m,\u001b[0m\u001b[0mX\u001b[0m\u001b[1;33m,\u001b[0m\u001b[0ml\u001b[0m\u001b[1;33m,\u001b[0m\u001b[0mwinit\u001b[0m\u001b[1;33m,\u001b[0m\u001b[0moptions\u001b[0m\u001b[1;33m)\u001b[0m\u001b[1;33m\u001b[0m\u001b[0m\n\u001b[0m\u001b[0;32m     32\u001b[0m \u001b[1;31m#w = ml_logregTrain(train_Y,X,l,winit,options)\u001b[0m\u001b[1;33m\u001b[0m\u001b[1;33m\u001b[0m\u001b[0m\n",
      "\u001b[1;32m<ipython-input-85-f2acd9745e25>\u001b[0m in \u001b[0;36mml_logregTrain\u001b[1;34m(t, X, l, winit, options)\u001b[0m\n\u001b[0;32m     17\u001b[0m         \u001b[1;31m#ew = sum(np.multiply(t,np.log(s)) + np.multiply((1-t),np.log(1-s))) - np.dot((0.5 * l), np.dot(w.transpose(),w))\u001b[0m\u001b[1;33m\u001b[0m\u001b[1;33m\u001b[0m\u001b[0m\n\u001b[0;32m     18\u001b[0m         \u001b[0mprint\u001b[0m\u001b[1;33m(\u001b[0m\u001b[1;34m'Iteration: {}, Cost function: {}'\u001b[0m\u001b[1;33m.\u001b[0m\u001b[0mformat\u001b[0m\u001b[1;33m(\u001b[0m\u001b[0mit\u001b[0m\u001b[1;33m,\u001b[0m\u001b[0mew\u001b[0m\u001b[1;33m,\u001b[0m\u001b[0mewold\u001b[0m\u001b[1;33m)\u001b[0m\u001b[1;33m)\u001b[0m\u001b[1;33m\u001b[0m\u001b[0m\n\u001b[1;32m---> 19\u001b[1;33m         \u001b[1;32mif\u001b[0m \u001b[0mnp\u001b[0m\u001b[1;33m.\u001b[0m\u001b[0mabsolute\u001b[0m\u001b[1;33m(\u001b[0m\u001b[0mew\u001b[0m \u001b[1;33m-\u001b[0m\u001b[0mewold\u001b[0m\u001b[1;33m)\u001b[0m \u001b[1;33m<\u001b[0m \u001b[0mtol\u001b[0m\u001b[1;33m:\u001b[0m\u001b[1;33m\u001b[0m\u001b[0m\n\u001b[0m\u001b[0;32m     20\u001b[0m             \u001b[1;32mbreak\u001b[0m\u001b[1;33m\u001b[0m\u001b[0m\n\u001b[0;32m     21\u001b[0m         \u001b[0mgradient\u001b[0m \u001b[1;33m=\u001b[0m \u001b[0mnp\u001b[0m\u001b[1;33m.\u001b[0m\u001b[0mdot\u001b[0m\u001b[1;33m(\u001b[0m\u001b[1;33m(\u001b[0m\u001b[0mt\u001b[0m\u001b[1;33m-\u001b[0m\u001b[0ms\u001b[0m\u001b[1;33m)\u001b[0m\u001b[1;33m.\u001b[0m\u001b[0mtranspose\u001b[0m\u001b[1;33m(\u001b[0m\u001b[1;33m)\u001b[0m\u001b[1;33m,\u001b[0m\u001b[0mX\u001b[0m\u001b[1;33m)\u001b[0m \u001b[1;33m-\u001b[0m \u001b[0mnp\u001b[0m\u001b[1;33m.\u001b[0m\u001b[0mmultiply\u001b[0m\u001b[1;33m(\u001b[0m\u001b[0ml\u001b[0m\u001b[1;33m,\u001b[0m\u001b[0mw\u001b[0m\u001b[1;33m)\u001b[0m\u001b[1;33m\u001b[0m\u001b[0m\n",
      "\u001b[1;31mValueError\u001b[0m: The truth value of an array with more than one element is ambiguous. Use a.any() or a.all()"
     ]
    }
   ],
   "source": [
    "def sigmoid(z):\n",
    "    yx = 1.0/(1+np.exp(-z))\n",
    "    return yx\n",
    "\n",
    "def ml_logregTrain(t,X,l,winit,options):\n",
    "    w = winit\n",
    "    iterations = options[0]\n",
    "    #tol=1/10\n",
    "    tol = options[1]\n",
    "    eta = options[2]\n",
    "    ewold = float('-inf')\n",
    "    for it in range(0,iterations):\n",
    "        yx = np.dot(X,w)\n",
    "        s = sigmoid(yx)\n",
    "        ew = sum(np.matmul(t.T,s) - np.log(sum(np.exp(s))))\n",
    "        #ew = sum(np.matmul(t,s)) - np.log(sum(np.exp(s)))\n",
    "        #ew = sum(np.multiply(t,np.log(s)) + np.multiply((1-t),np.log(1-s))) - np.dot((0.5 * l), np.dot(w.transpose(),w))  \n",
    "        print('Iteration: {}, Cost function: {}'.format(it,ew,ewold))\n",
    "        if np.absolute(ew -ewold) < tol:\n",
    "            break\n",
    "        gradient = np.dot((t-s).transpose(),X) - np.multiply(l,w)\n",
    "        #gradient = np.dot(X.transpose(),(t-s)) - np.multiply(l,w)\n",
    "        w += np.multiply(np.float(eta),gradient)\n",
    "        ewold=ew\n",
    "    ew =0\n",
    "    return w \n",
    "\n",
    "\n",
    "#w = ml_logregTrain(train_Y['aggr'], X, l, winit, options)\n",
    "#w = ml_logregTrain(train_X['target'],X,l,winit,options)\n",
    "w = ml_logregTrain(train_Y,X,l,winit,options)\n",
    "#w = ml_logregTrain(train_Y,X,l,winit,options)"
   ]
  },
  {
   "cell_type": "code",
   "execution_count": null,
   "metadata": {
    "collapsed": true
   },
   "outputs": [],
   "source": []
  }
 ],
 "metadata": {
  "anaconda-cloud": {},
  "kernelspec": {
   "display_name": "Python [conda root]",
   "language": "python",
   "name": "conda-root-py"
  },
  "language_info": {
   "codemirror_mode": {
    "name": "ipython",
    "version": 3
   },
   "file_extension": ".py",
   "mimetype": "text/x-python",
   "name": "python",
   "nbconvert_exporter": "python",
   "pygments_lexer": "ipython3",
   "version": "3.5.2"
  }
 },
 "nbformat": 4,
 "nbformat_minor": 1
}
