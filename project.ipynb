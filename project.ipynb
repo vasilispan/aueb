{
 "cells": [
  {
   "cell_type": "code",
   "execution_count": 1,
   "metadata": {
    "collapsed": true
   },
   "outputs": [],
   "source": [
    "import numpy as np\n",
    "import matplotlib.pyplot as plt\n",
    "from PIL import Image as image\n",
    "%matplotlib inline"
   ]
  },
  {
   "cell_type": "code",
   "execution_count": 2,
   "metadata": {
    "collapsed": true
   },
   "outputs": [],
   "source": [
    "test=[]\n",
    "for i in range(0,10):\n",
    "    test.append(\"D:/mnistdata/test{}.txt\".format(str(i)))\n",
    "train=[]\n",
    "for i in range(0,10):\n",
    "    train.append(\"D:/mnistdata/train{}.txt\".format(str(i)))"
   ]
  },
  {
   "cell_type": "code",
   "execution_count": 3,
   "metadata": {
    "collapsed": false,
    "scrolled": true
   },
   "outputs": [],
   "source": [
    "def saveimages(files):\n",
    "    for f in files:\n",
    "        print(f)\n",
    "        number=np.loadtxt(f)\n",
    "        for n in range(16):\n",
    "        #for n in range(len(number)):  \n",
    "            nn = np.reshape(number[n],(28,28))\n",
    "            im = image.fromarray(nn).convert('L')\n",
    "            #im.save(\"D:/images/im{}.png\".format(n))\n",
    "            #plt.show(im)\n",
    "            #plt.subplot(100,100,n+1)\n",
    "            #plt.subplot(211,len(number),n+1)\n",
    "            plt.subplot(4,4,n+1)\n",
    "            #plt.subplot(number.shape[0]//5,5,n+1)\n",
    "            plt.axis('off')\n",
    "            plt.imshow(im,cmap=plt.cm.gray_r)"
   ]
  },
  {
   "cell_type": "code",
   "execution_count": 4,
   "metadata": {
    "collapsed": false
   },
   "outputs": [],
   "source": [
    "#saveimages(test)"
   ]
  },
  {
   "cell_type": "code",
   "execution_count": 5,
   "metadata": {
    "collapsed": false,
    "scrolled": true
   },
   "outputs": [],
   "source": [
    "def read_data():\n",
    "    #testdata\n",
    "    testdata= []\n",
    "    for f in test:\n",
    "        testdata.append(np.loadtxt(f))\n",
    "    finaltest=np.array(testdata)\n",
    "    #traindata\n",
    "    traindata = []\n",
    "    for f in train:\n",
    "        traindata.append(np.loadtxt(f))\n",
    "    finaltrain = np.array(traindata)\n",
    "    return finaltest,finaltrain\n",
    "\n",
    "testset,trainset = read_data()"
   ]
  },
  {
   "cell_type": "code",
   "execution_count": 6,
   "metadata": {
    "collapsed": false
   },
   "outputs": [
    {
     "data": {
      "text/plain": [
       "(980, 784)"
      ]
     },
     "execution_count": 6,
     "metadata": {},
     "output_type": "execute_result"
    }
   ],
   "source": [
    "testset[0][:].shape"
   ]
  },
  {
   "cell_type": "code",
   "execution_count": 7,
   "metadata": {
    "collapsed": true
   },
   "outputs": [],
   "source": [
    "#to access 0 you need xxx_set[0][:], to access 1 you need xxx_set[1][:] and so on"
   ]
  },
  {
   "cell_type": "code",
   "execution_count": 8,
   "metadata": {
    "collapsed": false
   },
   "outputs": [
    {
     "data": {
      "text/plain": [
       "(5923, 784)"
      ]
     },
     "execution_count": 8,
     "metadata": {},
     "output_type": "execute_result"
    }
   ],
   "source": [
    "trainset[0][:].shape"
   ]
  },
  {
   "cell_type": "code",
   "execution_count": null,
   "metadata": {
    "collapsed": true
   },
   "outputs": [],
   "source": []
  }
 ],
 "metadata": {
  "anaconda-cloud": {},
  "kernelspec": {
   "display_name": "Python [conda root]",
   "language": "python",
   "name": "conda-root-py"
  },
  "language_info": {
   "codemirror_mode": {
    "name": "ipython",
    "version": 3
   },
   "file_extension": ".py",
   "mimetype": "text/x-python",
   "name": "python",
   "nbconvert_exporter": "python",
   "pygments_lexer": "ipython3",
   "version": "3.5.2"
  }
 },
 "nbformat": 4,
 "nbformat_minor": 1
}
