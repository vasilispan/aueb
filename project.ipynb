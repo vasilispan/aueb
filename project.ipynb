{
 "cells": [
  {
   "cell_type": "code",
   "execution_count": 1,
   "metadata": {
    "collapsed": false
   },
   "outputs": [],
   "source": [
    "from sklearn.preprocessing import OneHotEncoder\n",
    "import numpy as np\n",
    "import matplotlib.pyplot as plt\n",
    "from PIL import Image as image\n",
    "import pandas as pd\n",
    "%matplotlib inline"
   ]
  },
  {
   "cell_type": "code",
   "execution_count": 2,
   "metadata": {
    "collapsed": false,
    "scrolled": true
   },
   "outputs": [],
   "source": [
    "def getdf(type):\n",
    "    tables = []\n",
    "    for i in range(10):\n",
    "        temp_df = pd.read_csv('D:/mnistdata/{}{}.txt'.format(str(type),i),sep = ' ', names = range(784))\n",
    "        if str(type) == 'train':\n",
    "            temp_df['target'] = i\n",
    "        tables.append(temp_df)\n",
    "    tables = pd.concat(tables)\n",
    "    return tables\n",
    "\n",
    "#testset,trainset = read_data()"
   ]
  },
  {
   "cell_type": "code",
   "execution_count": 3,
   "metadata": {
    "collapsed": false
   },
   "outputs": [],
   "source": [
    "train_X = getdf('train')\n",
    "train_X.sample(10)\n",
    "test_X = getdf('test')\n",
    "# create train_y \n",
    "enc = OneHotEncoder()\n",
    "train_Y = enc.fit_transform(train_X['target'].reshape(-1,1)).toarray()"
   ]
  },
  {
   "cell_type": "code",
   "execution_count": 4,
   "metadata": {
    "collapsed": false
   },
   "outputs": [
    {
     "name": "stdout",
     "output_type": "stream",
     "text": [
      "train_x is (60000, 785) and train_Y is (60000, 10)\n"
     ]
    }
   ],
   "source": [
    "train_X.shape\n",
    "train_Y.shape\n",
    "print('train_x is {} and train_Y is {}'.format(train_X.shape,train_Y.shape))"
   ]
  },
  {
   "cell_type": "code",
   "execution_count": 5,
   "metadata": {
    "collapsed": false
   },
   "outputs": [],
   "source": [
    "# in order to access eg the first row of the train_X use .iloc[0]\n",
    "# to see all rows whose target is in range (0..9) use train_X.loc[trainX['target'] == 0]"
   ]
  },
  {
   "cell_type": "code",
   "execution_count": 6,
   "metadata": {
    "collapsed": false
   },
   "outputs": [],
   "source": [
    "#train_X.loc[train_X['target']== 0].sample(5)\n",
    "#len(train_X.loc[train_X['target']== 1])"
   ]
  },
  {
   "cell_type": "code",
   "execution_count": 7,
   "metadata": {
    "collapsed": false,
    "scrolled": true
   },
   "outputs": [],
   "source": [
    "# X is train_X.ix[:,:784] and Y is train_X['target']"
   ]
  },
  {
   "cell_type": "code",
   "execution_count": 8,
   "metadata": {
    "collapsed": true
   },
   "outputs": [],
   "source": [
    "#now implement gradient descent for the first part of the exercise"
   ]
  }
 ],
 "metadata": {
  "anaconda-cloud": {},
  "kernelspec": {
   "display_name": "Python [conda root]",
   "language": "python",
   "name": "conda-root-py"
  },
  "language_info": {
   "codemirror_mode": {
    "name": "ipython",
    "version": 3
   },
   "file_extension": ".py",
   "mimetype": "text/x-python",
   "name": "python",
   "nbconvert_exporter": "python",
   "pygments_lexer": "ipython3",
   "version": "3.5.2"
  }
 },
 "nbformat": 4,
 "nbformat_minor": 1
}
