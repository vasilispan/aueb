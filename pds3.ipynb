import pandas as pd

list=["biology","cooking","crypto","diy","robotics","travel"]
training_list=[]
for x in list:
    path = 'stackexchange/{}.csv'.format(str(x))
    training_list.append(pd.read_csv(path,usecols=['title','content','tags']))
training_set = pd.concat(training_list, axis=0 , join='outer')

training_set.head(10)
