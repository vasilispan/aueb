{
 "cells": [
  {
   "cell_type": "code",
   "execution_count": 1,
   "metadata": {
    "collapsed": false
   },
   "outputs": [],
   "source": [
    "import pandas as pd\n",
    "import multiprocessing as mp\n",
    "import numpy as np\n",
    "from datetime import datetime\n",
    "import re \n",
    "import string"
   ]
  },
  {
   "cell_type": "code",
   "execution_count": 2,
   "metadata": {
    "collapsed": true
   },
   "outputs": [],
   "source": [
    "test= [\"D:\\datascience\\hw2-rdf-2016_test.txt\"]\n",
    "files =[]\n",
    "for i in range(1,2):\n",
    "    files.append(\"D:\\datascience\\hw2-rdf-2016_{}.dat\".format(str(i)))"
   ]
  },
  {
   "cell_type": "code",
   "execution_count": 3,
   "metadata": {
    "collapsed": false
   },
   "outputs": [
    {
     "data": {
      "text/plain": [
       "['D:\\\\datascience\\\\hw2-rdf-2016_1.dat']"
      ]
     },
     "execution_count": 3,
     "metadata": {},
     "output_type": "execute_result"
    }
   ],
   "source": [
    "files"
   ]
  },
  {
   "cell_type": "code",
   "execution_count": 4,
   "metadata": {
    "collapsed": false
   },
   "outputs": [
    {
     "data": {
      "text/plain": [
       "'<http://www.janhaeussler.com/?sioc_type=user&sioc_id=1> <http://purl.org/dc/elements/1.1/title> \"SIOC User profile for \\\\\"SELECT * FROM // c[_]~~\\\\\"\" <http://www.janhaeussler.com/?sioc_type=user&sioc_id=1> .'"
      ]
     },
     "execution_count": 4,
     "metadata": {},
     "output_type": "execute_result"
    }
   ],
   "source": [
    "for f in test:\n",
    "    with open(str(f),'r') as f:\n",
    "        reader = pd.read_table(f,header=None,encoding='utf-8',dtype='str',quotechar='\"')\n",
    "reader[0][1]\n",
    "#reader = reader[0].str.split(\"\\s\",expand=True)"
   ]
  },
  {
   "cell_type": "code",
   "execution_count": 11,
   "metadata": {
    "collapsed": false
   },
   "outputs": [
    {
     "data": {
      "text/plain": [
       "['',\n",
       " 'http://www.janhaeussler.com/?sioc_type=user&sioc_id=1',\n",
       " ' ',\n",
       " 'http://purl.org/dc/elements/1.1/title',\n",
       " ' \"SIOC User profile for \\\\\"SELECT * FROM // c[_]~~\\\\\"\" ',\n",
       " 'http://www.janhaeussler.com/?sioc_type=user&sioc_id=1',\n",
       " ' .']"
      ]
     },
     "execution_count": 11,
     "metadata": {},
     "output_type": "execute_result"
    }
   ],
   "source": [
    "mystring = str(reader[0][1])\n",
    "reader2 =reader.replace(re.compile('\\\\\\\"'),'\"')\n",
    "reader2[0][1]\n",
    "mystring2 = re.split('<|>',reader2[0][1])\n",
    "mystring2"
   ]
  },
  {
   "cell_type": "code",
   "execution_count": null,
   "metadata": {
    "collapsed": true
   },
   "outputs": [],
   "source": []
  }
 ],
 "metadata": {
  "anaconda-cloud": {},
  "kernelspec": {
   "display_name": "Python [conda root]",
   "language": "python",
   "name": "conda-root-py"
  },
  "language_info": {
   "codemirror_mode": {
    "name": "ipython",
    "version": 3
   },
   "file_extension": ".py",
   "mimetype": "text/x-python",
   "name": "python",
   "nbconvert_exporter": "python",
   "pygments_lexer": "ipython3",
   "version": "3.5.2"
  }
 },
 "nbformat": 4,
 "nbformat_minor": 1
}
