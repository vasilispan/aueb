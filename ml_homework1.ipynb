{
 "cells": [
  {
   "cell_type": "code",
   "execution_count": 1,
   "metadata": {
    "collapsed": true
   },
   "outputs": [],
   "source": [
    "import numpy as np\n",
    "import pandas as pd\n",
    "import matplotlib.pyplot as plt\n",
    "%matplotlib inline\n",
    "train_data = np.loadtxt('ml_hw1\\data1Tr.txt')\n",
    "Xtest = np.loadtxt('ml_hw1\\data1Ts.txt')"
   ]
  },
  {
   "cell_type": "code",
   "execution_count": 2,
   "metadata": {
    "collapsed": false,
    "scrolled": true
   },
   "outputs": [
    {
     "name": "stdout",
     "output_type": "stream",
     "text": [
      "X is: \n",
      "[ 8.147237  9.057919  1.269868  9.133759  6.323592  0.975404  2.784982\n",
      "  5.468815  9.575068  9.648885]\n",
      "t is : \n",
      "[ 5.306609  5.654328  1.64995   5.637201  4.022494  1.826931  2.404303\n",
      "  4.093822  5.840348  5.998777]\n"
     ]
    }
   ],
   "source": [
    "#print(train_data)\n",
    "X = train_data[:,0]\n",
    "X_old = train_data[:,0]\n",
    "t = train_data[:,1]\n",
    "print(\"X is: \")\n",
    "print(X)\n",
    "print(\"t is : \")\n",
    "print(t)"
   ]
  },
  {
   "cell_type": "code",
   "execution_count": 3,
   "metadata": {
    "collapsed": false
   },
   "outputs": [
    {
     "data": {
      "text/plain": [
       "<matplotlib.collections.PathCollection at 0x8d0ce80>"
      ]
     },
     "execution_count": 3,
     "metadata": {},
     "output_type": "execute_result"
    },
    {
     "data": {
      "image/png": "[encoded data removed]",
      "text/plain": [
       "<matplotlib.figure.Figure at 0x4318198>"
      ]
     },
     "metadata": {},
     "output_type": "display_data"
    }
   ],
   "source": [
    "fig=plt.figure()\n",
    "plt.scatter(X,t)"
   ]
  },
  {
   "cell_type": "code",
   "execution_count": 4,
   "metadata": {
    "collapsed": false
   },
   "outputs": [],
   "source": [
    "N = X.shape[:][0] # N = 10\n",
    "D = 1 \n",
    "#D= X.shape[:] \n",
    "Ntest = Xtest.shape[0] # Ntest = 121"
   ]
  },
  {
   "cell_type": "markdown",
   "metadata": {},
   "source": [
    "Add 1 as the first for both the training input and test inputs"
   ]
  },
  {
   "cell_type": "code",
   "execution_count": 5,
   "metadata": {
    "collapsed": false,
    "scrolled": true
   },
   "outputs": [],
   "source": [
    "X = np.c_[np.ones(len(X)),X]\n",
    "Xtest = np.c_[np.ones(len(Xtest)),Xtest]"
   ]
  },
  {
   "cell_type": "markdown",
   "metadata": {},
   "source": [
    "Lambda variable is called \"l\""
   ]
  },
  {
   "cell_type": "code",
   "execution_count": 6,
   "metadata": {
    "collapsed": false
   },
   "outputs": [],
   "source": [
    "l = 0"
   ]
  },
  {
   "cell_type": "markdown",
   "metadata": {},
   "source": [
    "Now train the model"
   ]
  },
  {
   "cell_type": "code",
   "execution_count": 7,
   "metadata": {
    "collapsed": false
   },
   "outputs": [],
   "source": [
    "def ml_linregTrain(t, X, l):\n",
    "    N,D = X.shape\n",
    "    T = np.dot(X.transpose(),t)\n",
    "    K = np.dot(X.transpose(),X) + l * np.eye(N=D)\n",
    "    w = np.linalg.solve(a=K,b=T)\n",
    "    y = np.dot(X,w)\n",
    "    #print(t)\n",
    "    beta = N/sum((y-t)**2)#[0]\n",
    "    return w , beta\n",
    "w , beta = ml_linregTrain(t,X,l)"
   ]
  },
  {
   "cell_type": "code",
   "execution_count": 8,
   "metadata": {
    "collapsed": true
   },
   "outputs": [],
   "source": [
    "def ml_linregTest(w,beta,Xtest):\n",
    "    ytest =  np.dot(Xtest,w)\n",
    "    vtest = (1/beta)*np.ones(Ntest)\n",
    "    return ytest, vtest"
   ]
  },
  {
   "cell_type": "code",
   "execution_count": 9,
   "metadata": {
    "collapsed": false
   },
   "outputs": [],
   "source": [
    "ytest , vtest = ml_linregTest(w,beta,Xtest)"
   ]
  },
  {
   "cell_type": "code",
   "execution_count": 13,
   "metadata": {
    "collapsed": false
   },
   "outputs": [
    {
     "data": {
      "text/plain": [
       "[<matplotlib.lines.Line2D at 0x97b94a8>]"
      ]
     },
     "execution_count": 13,
     "metadata": {},
     "output_type": "execute_result"
    },
    {
     "data": {
      "image/png": "[encoded data removed]",
      "text/plain": [
       "<matplotlib.figure.Figure at 0x9718400>"
      ]
     },
     "metadata": {},
     "output_type": "display_data"
    }
   ],
   "source": [
    "fig2 = plt.figure()\n",
    "plt.scatter(X_old,t)\n",
    "plt.plot(Xtest[:,1],ytest)\n",
    "plt.plot(Xtest[:,1],ytest-np.sqrt(vtest),ls='dashed')\n",
    "plt.plot(Xtest[:,1],ytest+np.sqrt(vtest),ls='dashed')"
   ]
  },
  {
   "cell_type": "code",
   "execution_count": null,
   "metadata": {
    "collapsed": true
   },
   "outputs": [],
   "source": []
  }
 ],
 "metadata": {
  "anaconda-cloud": {},
  "kernelspec": {
   "display_name": "Python [conda root]",
   "language": "python",
   "name": "conda-root-py"
  },
  "language_info": {
   "codemirror_mode": {
    "name": "ipython",
    "version": 3
   },
   "file_extension": ".py",
   "mimetype": "text/x-python",
   "name": "python",
   "nbconvert_exporter": "python",
   "pygments_lexer": "ipython3",
   "version": "3.5.2"
  }
 },
 "nbformat": 4,
 "nbformat_minor": 1
}
