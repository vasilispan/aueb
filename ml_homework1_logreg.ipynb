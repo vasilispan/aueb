{
 "cells": [
  {
   "cell_type": "code",
   "execution_count": 1,
   "metadata": {
    "collapsed": true
   },
   "outputs": [],
   "source": [
    "import numpy as np\n",
    "import pandas as pd\n",
    "import matplotlib.pyplot as plt\n",
    "import pandas as pd\n",
    "%matplotlib inline\n",
    "#Load the files\n",
    "train_data = np.loadtxt('ml_hw1\\data2Tr.txt')\n",
    "Xtest = np.loadtxt('ml_hw1\\data2Ts.txt')\n",
    "Xtest_old = np.loadtxt('ml_hw1\\data2Ts.txt')"
   ]
  },
  {
   "cell_type": "markdown",
   "metadata": {},
   "source": [
    "Organize our data and keep a copy of X (X_old) for plotting purposes. X(input) is the first two column of train_data, t(output) is the third column of train_data. "
   ]
  },
  {
   "cell_type": "code",
   "execution_count": 2,
   "metadata": {
    "collapsed": false
   },
   "outputs": [],
   "source": [
    "X = train_data[:,0:2]\n",
    "t = train_data[:,2]\n",
    "#Keep a reference of X and Xtest before adding the ones for easy plotting purposes\n",
    "Xtest_old = np.loadtxt('ml_hw1\\data2Ts.txt')\n",
    "X_old = train_data[:,0:2]"
   ]
  },
  {
   "cell_type": "code",
   "execution_count": 3,
   "metadata": {
    "collapsed": true
   },
   "outputs": [],
   "source": [
    "N, D = X.shape"
   ]
  },
  {
   "cell_type": "code",
   "execution_count": 4,
   "metadata": {
    "collapsed": false
   },
   "outputs": [],
   "source": [
    "Ntest=Xtest.shape[0]"
   ]
  },
  {
   "cell_type": "markdown",
   "metadata": {},
   "source": [
    "Add 1 as the first for both the training input and test inputs"
   ]
  },
  {
   "cell_type": "code",
   "execution_count": 5,
   "metadata": {
    "collapsed": false
   },
   "outputs": [],
   "source": [
    "X = np.c_[np.ones(len(X)),X]\n",
    "Xtest = np.c_[np.ones(len(Xtest)),Xtest]"
   ]
  },
  {
   "cell_type": "markdown",
   "metadata": {},
   "source": [
    "Initial w for the gradient ascent, lambda variable, and options list "
   ]
  },
  {
   "cell_type": "code",
   "execution_count": 6,
   "metadata": {
    "collapsed": false
   },
   "outputs": [],
   "source": [
    "winit = np.zeros(D+1)\n",
    "l = 0.0 \n",
    "options = [500,'1e-6',8/N]"
   ]
  },
  {
   "cell_type": "markdown",
   "metadata": {},
   "source": [
    "Definition of required functions "
   ]
  },
  {
   "cell_type": "code",
   "execution_count": 7,
   "metadata": {
    "collapsed": false,
    "scrolled": false
   },
   "outputs": [],
   "source": [
    "def sigmoid(z):\n",
    "    yx = 1.0/(1+np.exp(-z))\n",
    "    return yx\n",
    "\n",
    "def ml_logregTrain(t,X,l,winit,options):\n",
    "    w = winit\n",
    "    iter = options[0]\n",
    "    tol = options[1]\n",
    "    eta = options[2]\n",
    "    ewold = np.float('-inf')\n",
    "    for it in range(1,iter):\n",
    "        yx = np.dot(X,w)\n",
    "        s = sigmoid(yx)\n",
    "        ew = sum(np.multiply(t,np.log(s)) + np.multiply(1-t,np.log(1-s))) - np.dot(w.transpose(),w) * (0.5 * l)\n",
    "        current = 'Iteration: {}, Cost function: {}\\n'.format(it,ew)\n",
    "        print('Iteration: {}, Cost function: {}\\n'.format(it,ew))\n",
    "        if np.absolute(np.subtract(ew,ewold)) < np.float(tol):\n",
    "            break\n",
    "        gradient = np.dot(X.transpose(),(t-s)) - l*w\n",
    "        w += np.multiply(eta,gradient)\n",
    "        ewold=ew\n",
    "        return w \n",
    "\n",
    "def ml_logregTest(w, Xtest):\n",
    "    ytest=sigmoid(np.dot(Xtest,w))\n",
    "    ttest  = np.round(ytest)\n",
    "    return ttest, ytest "
   ]
  },
  {
   "cell_type": "code",
   "execution_count": 8,
   "metadata": {
    "collapsed": false
   },
   "outputs": [
    {
     "name": "stdout",
     "output_type": "stream",
     "text": [
      "Iteration: 1, Cost function: -27.725887222397784\n",
      "\n"
     ]
    }
   ],
   "source": [
    "w = ml_logregTrain(t, X, l, winit, options)\n",
    "ttest,ytest = ml_logregTest(w,Xtest)"
   ]
  },
  {
   "cell_type": "code",
   "execution_count": 9,
   "metadata": {
    "collapsed": true
   },
   "outputs": [],
   "source": [
    "maxX=X[:,1].max()\n",
    "minX=X[:,1].min()"
   ]
  },
  {
   "cell_type": "markdown",
   "metadata": {},
   "source": [
    "Below are the plots. To plot X data if t =1 or if t=0, I decided to zip t and X and use an if. Sample row of zipped array is \"(1.0, array([ 1.      ,  0.460484,  0.415557]))\" Where 1.0 is t, and array that follows is with the 1's added and X datapoint coordinates. \\nSo now to plot, I have from the above ask to return :  \n",
    "[i[1][1]for i in zip(t,X) if i[::2][0] == 0.]   for X1,1  \n",
    "[i[1][2] for i in zip(t,X) if i[::2][0] == 0.] for X1,2"
   ]
  },
  {
   "cell_type": "code",
   "execution_count": 10,
   "metadata": {
    "collapsed": false
   },
   "outputs": [
    {
     "data": {
      "image/png": "[encoded data removed]",
      "text/plain": [
       "<matplotlib.figure.Figure at 0x71e4208>"
      ]
     },
     "metadata": {},
     "output_type": "display_data"
    }
   ],
   "source": [
    "#plt.scatter(X[:,1:3],c='red')\n",
    "plt.scatter([i[1][1] for i in zip(t,X) if i[::2][0] == 0.],[i[1][2] for i in zip(t,X) if i[::2][0] == 0.])\n",
    "plt.scatter([i[1][1] for i in zip(t,X) if i[::2][0] == 1.] ,[i[1][2]-0.5 for i in zip(t,X) if i[::2][0] == 1.] ,c='red')\n",
    "plt.plot([minX,maxX],-np.float(w[0]/w[2]) - np.dot((w[1]/w[2]),[minX,maxX]),lw='2',c='black')\n",
    "plt.plot([minX,maxX],-np.float(np.log(0.9/0.1)/w[2]) - np.float(w[0]/w[2])-np.dot((w[1]/w[2]),[minX,maxX]),'--',lw='1')\n",
    "plt.plot([minX,maxX],-np.float(np.log(0.1/0.9)/w[2]) - np.float(w[0]/w[2])-np.dot((w[1]/w[2]),[minX,maxX]),'--',lw='1')\n",
    "#plot probabilities in the test data\n",
    "for n in range(1,Ntest):\n",
    "    plt.scatter(Xtest_old[1][0],Xtest_old[1][1],[1-ytest[n],ytest[n]])"
   ]
  },
  {
   "cell_type": "code",
   "execution_count": 11,
   "metadata": {
    "collapsed": false,
    "scrolled": true
   },
   "outputs": [
    {
     "name": "stdout",
     "output_type": "stream",
     "text": [
      "(1.0, array([ 1.      ,  0.460484,  0.415557]))\n",
      "(1.0, array([ 1.      ,  0.350395,  0.272025]))\n",
      "(1.0, array([ 1.      ,  0.709235,  0.542025]))\n",
      "(1.0, array([ 1.      ,  0.369253,  0.320382]))\n",
      "(1.0, array([ 1.      ,  0.19215 ,  0.001763]))\n",
      "(1.0, array([ 1.      ,  0.717836,  0.294686]))\n",
      "(1.0, array([ 1.      ,  0.43187 ,  0.215886]))\n",
      "(1.0, array([ 1.      ,  0.446035,  0.403213]))\n",
      "(1.0, array([ 1.      ,  0.572878,  0.14377 ]))\n",
      "(1.0, array([ 1.      ,  0.360822,  0.345059]))\n",
      "(1.0, array([ 1.      ,  0.804368,  0.256027]))\n",
      "(1.0, array([ 1.      ,  0.933851,  0.677885]))\n",
      "(1.0, array([ 1.      ,  0.226798,  0.219393]))\n",
      "(1.0, array([ 1.      ,  0.785947,  0.340164]))\n",
      "(1.0, array([ 1.      ,  0.410729,  0.139813]))\n",
      "(1.0, array([ 1.      ,  0.862388,  0.525193]))\n",
      "(1.0, array([ 1.      ,  0.601185,  0.062254]))\n",
      "(1.0, array([ 1.      ,  0.626098,  0.598687]))\n",
      "(1.0, array([ 1.      ,  0.835125,  0.125176]))\n"
     ]
    }
   ],
   "source": [
    "#test zipped list t,X for plotting purposes\n",
    "for i in zip(t,X):\n",
    "    if (i[::2][0]) == 1.0:\n",
    "        print(i)"
   ]
  },
  {
   "cell_type": "code",
   "execution_count": 12,
   "metadata": {
    "collapsed": false
   },
   "outputs": [],
   "source": [
    "#[i[1][1:3] for i in zip(t,X) if i[::2][0] == 0.0]\n",
    "#[i[1][1:3] for i in zip(t,X) if i[::2][0] == 1.0]"
   ]
  },
  {
   "cell_type": "code",
   "execution_count": null,
   "metadata": {
    "collapsed": true
   },
   "outputs": [],
   "source": []
  }
 ],
 "metadata": {
  "anaconda-cloud": {},
  "kernelspec": {
   "display_name": "Python [conda root]",
   "language": "python",
   "name": "conda-root-py"
  },
  "language_info": {
   "codemirror_mode": {
    "name": "ipython",
    "version": 3
   },
   "file_extension": ".py",
   "mimetype": "text/x-python",
   "name": "python",
   "nbconvert_exporter": "python",
   "pygments_lexer": "ipython3",
   "version": "3.5.2"
  }
 },
 "nbformat": 4,
 "nbformat_minor": 1
}
