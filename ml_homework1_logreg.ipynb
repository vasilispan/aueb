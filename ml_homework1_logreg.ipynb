{
 "cells": [
  {
   "cell_type": "code",
   "execution_count": 1,
   "metadata": {
    "collapsed": true
   },
   "outputs": [],
   "source": [
    "import numpy as np\n",
    "import pandas as pd\n",
    "import matplotlib.pyplot as plt\n",
    "%matplotlib inline\n",
    "train_data = np.loadtxt('ml_hw1\\data2Tr.txt')\n",
    "Xtest = np.loadtxt('ml_hw1\\data2Ts.txt')"
   ]
  },
  {
   "cell_type": "code",
   "execution_count": 2,
   "metadata": {
    "collapsed": false
   },
   "outputs": [],
   "source": [
    "X = train_data[:,0:2]\n",
    "X_old = train_data[:,0:2]\n",
    "t = train_data[:,2]"
   ]
  },
  {
   "cell_type": "code",
   "execution_count": 3,
   "metadata": {
    "collapsed": true
   },
   "outputs": [],
   "source": [
    "N, D = X.shape"
   ]
  },
  {
   "cell_type": "code",
   "execution_count": 4,
   "metadata": {
    "collapsed": false
   },
   "outputs": [],
   "source": [
    "Ntest=Xtest.shape[0]"
   ]
  },
  {
   "cell_type": "code",
   "execution_count": 5,
   "metadata": {
    "collapsed": false
   },
   "outputs": [],
   "source": [
    "X = np.c_[np.ones(len(X)),X]\n",
    "Xtest = np.c_[np.ones(len(Xtest)),Xtest]"
   ]
  },
  {
   "cell_type": "code",
   "execution_count": 6,
   "metadata": {
    "collapsed": false
   },
   "outputs": [],
   "source": [
    "winit = np.zeros(D+1)\n",
    "l = 0.0 \n",
    "options = [500,'1e-6',8/N]"
   ]
  },
  {
   "cell_type": "code",
   "execution_count": 7,
   "metadata": {
    "collapsed": false,
    "scrolled": false
   },
   "outputs": [],
   "source": [
    "def sigmoid(z):\n",
    "    yx = 1.0/(1+np.exp(-z))\n",
    "    return yx\n",
    "\n",
    "def ml_logregTrain(t,X,l,winit,options):\n",
    "    w = winit\n",
    "    iter = options[0]\n",
    "    tol = options[1]\n",
    "    eta = options[2]\n",
    "    ewold = np.float('-inf')\n",
    "    for it in range(1,iter):\n",
    "        yx = np.dot(X,w)\n",
    "        s = sigmoid(yx)\n",
    "        #Compute the cost function to check convergence\n",
    "        ew = sum(np.multiply(t,np.log(s)) + np.multiply(1-t,np.log(1-s))) - np.dot(w.transpose(),w) * (0.5 * l)\n",
    "        # show current cost function on screen\n",
    "        current = 'Iteration: {}, Cost function: {}\\n'.format(it,ew)\n",
    "        #print(current)\n",
    "        if np.absolute(np.subtract(ew,ewold)) < np.float(tol):\n",
    "            break\n",
    "        gradient = np.dot(X.transpose(),(t-s)) - l*w\n",
    "        w += np.multiply(eta,gradient)\n",
    "        ewold=ew\n",
    "        return w \n",
    "\n",
    "def ml_logregTest(w, Xtest):\n",
    "    ytest=sigmoid(np.dot(Xtest,w))\n",
    "    ttest  = np.round(ytest)\n",
    "    return ttest, ytest \n",
    "\n",
    "#Train the model\n",
    "w = ml_logregTrain(t, X, l, winit, options)\n",
    "#Test the model \n",
    "ttest,ytest = ml_logregTest(w,Xtest)"
   ]
  },
  {
   "cell_type": "code",
   "execution_count": null,
   "metadata": {
    "collapsed": true
   },
   "outputs": [],
   "source": []
  }
 ],
 "metadata": {
  "anaconda-cloud": {},
  "kernelspec": {
   "display_name": "Python [conda root]",
   "language": "python",
   "name": "conda-root-py"
  },
  "language_info": {
   "codemirror_mode": {
    "name": "ipython",
    "version": 3
   },
   "file_extension": ".py",
   "mimetype": "text/x-python",
   "name": "python",
   "nbconvert_exporter": "python",
   "pygments_lexer": "ipython3",
   "version": "3.5.2"
  }
 },
 "nbformat": 4,
 "nbformat_minor": 1
}
