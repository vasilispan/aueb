import requests
import csv

import pandas as pd
def getdataframes():
    firms = {"SP500TR","BK","BFED","BLK","CARV","C","CME","EVR","FII","FIG","GBL","LAZ","NTRS","BPOP","PFS","STT","BX","BX","NOMXNHCEXP"}
    for x in firms:
        request = 'http://chart.finance.yahoo.com/table.csv?s={}&a=10&b=21&c=2008&d=11&e=8&f=2008&g=d&ignore=.csv'.format(str(x))
        print (request)
        r = requests.get(request)
        #r = requests.get(http://chart.finance.yahoo.com/table.csv?s=^NOMXNHCEXP&a=10&b=21&c=2008&d=11&e=8&f=2008&g=d&ignore=.csv)
        decoded_content = r.content.decode('utf-8')
        cr = csv.reader(decoded_content.splitlines(), delimiter=',')
        my_list = list(cr)
        x = pd.DataFrame(data=my_list)
        print (x)
getdataframes()        
