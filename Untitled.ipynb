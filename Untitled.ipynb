{
 "cells": [
  {
   "cell_type": "code",
   "execution_count": 9,
   "metadata": {
    "collapsed": true
   },
   "outputs": [],
   "source": [
    "import requests\n",
    "import csv\n",
    "import pandas as pd\n"
   ]
  },
  {
   "cell_type": "code",
   "execution_count": 11,
   "metadata": {
    "collapsed": false,
    "scrolled": true
   },
   "outputs": [],
   "source": [
    "def getdataframes():\n",
    "    firms = {\"^SP500TR\",\"BK\",\"BFED\",\"BLK\",\"CARV\",\"C\",\"CME\",\"EVR\",\"FII\",\"FIG\",\"GBL\",\"LAZ\",\"NTRS\",\"BPOP\",\"PFS\",\"STT\",\"BX\",\"BX\",\"^NOMXNHCEXP\"}\n",
    "    for x in firms:\n",
    "        request = 'http://chart.finance.yahoo.com/table.csv?s={}&a=10&b=21&c=2008&d=11&e=8&f=2008&g=d&ignore=.csv'.format(str(x))\n",
    "        print (request)\n",
    "        r = requests.get(request)\n",
    "        #r = requests.get(http://chart.finance.yahoo.com/table.csv?s=^NOMXNHCEXP&a=10&b=21&c=2008&d=11&e=8&f=2008&g=d&ignore=.csv)\n",
    "        decoded_content = r.content.decode('utf-8')\n",
    "        cr = csv.reader(decoded_content.splitlines(), delimiter=',')\n",
    "        my_list = list(cr)\n",
    "        x = pd.DataFrame(data=my_list)\n",
    "        #print (x)\n",
    "        \n",
    "      "
   ]
  },
  {
   "cell_type": "code",
   "execution_count": 12,
   "metadata": {
    "collapsed": false
   },
   "outputs": [
    {
     "name": "stdout",
     "output_type": "stream",
     "text": [
      "http://chart.finance.yahoo.com/table.csv?s=EVR&a=10&b=21&c=2008&d=11&e=8&f=2008&g=d&ignore=.csv\n",
      "http://chart.finance.yahoo.com/table.csv?s=NTRS&a=10&b=21&c=2008&d=11&e=8&f=2008&g=d&ignore=.csv\n",
      "http://chart.finance.yahoo.com/table.csv?s=LAZ&a=10&b=21&c=2008&d=11&e=8&f=2008&g=d&ignore=.csv\n",
      "http://chart.finance.yahoo.com/table.csv?s=FIG&a=10&b=21&c=2008&d=11&e=8&f=2008&g=d&ignore=.csv\n",
      "http://chart.finance.yahoo.com/table.csv?s=C&a=10&b=21&c=2008&d=11&e=8&f=2008&g=d&ignore=.csv\n",
      "http://chart.finance.yahoo.com/table.csv?s=CARV&a=10&b=21&c=2008&d=11&e=8&f=2008&g=d&ignore=.csv\n",
      "http://chart.finance.yahoo.com/table.csv?s=BK&a=10&b=21&c=2008&d=11&e=8&f=2008&g=d&ignore=.csv\n",
      "http://chart.finance.yahoo.com/table.csv?s=STT&a=10&b=21&c=2008&d=11&e=8&f=2008&g=d&ignore=.csv\n",
      "http://chart.finance.yahoo.com/table.csv?s=BFED&a=10&b=21&c=2008&d=11&e=8&f=2008&g=d&ignore=.csv\n",
      "http://chart.finance.yahoo.com/table.csv?s=GBL&a=10&b=21&c=2008&d=11&e=8&f=2008&g=d&ignore=.csv\n",
      "http://chart.finance.yahoo.com/table.csv?s=BPOP&a=10&b=21&c=2008&d=11&e=8&f=2008&g=d&ignore=.csv\n",
      "http://chart.finance.yahoo.com/table.csv?s=BX&a=10&b=21&c=2008&d=11&e=8&f=2008&g=d&ignore=.csv\n",
      "http://chart.finance.yahoo.com/table.csv?s=CME&a=10&b=21&c=2008&d=11&e=8&f=2008&g=d&ignore=.csv\n",
      "http://chart.finance.yahoo.com/table.csv?s=^NOMXNHCEXP&a=10&b=21&c=2008&d=11&e=8&f=2008&g=d&ignore=.csv\n",
      "http://chart.finance.yahoo.com/table.csv?s=FII&a=10&b=21&c=2008&d=11&e=8&f=2008&g=d&ignore=.csv\n",
      "http://chart.finance.yahoo.com/table.csv?s=^SP500TR&a=10&b=21&c=2008&d=11&e=8&f=2008&g=d&ignore=.csv\n",
      "http://chart.finance.yahoo.com/table.csv?s=BLK&a=10&b=21&c=2008&d=11&e=8&f=2008&g=d&ignore=.csv\n",
      "http://chart.finance.yahoo.com/table.csv?s=PFS&a=10&b=21&c=2008&d=11&e=8&f=2008&g=d&ignore=.csv\n"
     ]
    }
   ],
   "source": [
    "getdataframes()"
   ]
  },
  {
   "cell_type": "code",
   "execution_count": 16,
   "metadata": {
    "collapsed": false
   },
   "outputs": [
    {
     "ename": "NameError",
     "evalue": "name 'BK' is not defined",
     "output_type": "error",
     "traceback": [
      "\u001b[0;31m---------------------------------------------------------------------------\u001b[0m",
      "\u001b[0;31mNameError\u001b[0m                                 Traceback (most recent call last)",
      "\u001b[0;32m<ipython-input-16-5fd769f97508>\u001b[0m in \u001b[0;36m<module>\u001b[0;34m()\u001b[0m\n\u001b[0;32m----> 1\u001b[0;31m \u001b[0mprint\u001b[0m\u001b[1;33m(\u001b[0m\u001b[0mBK\u001b[0m\u001b[1;33m)\u001b[0m\u001b[1;33m\u001b[0m\u001b[0m\n\u001b[0m",
      "\u001b[0;31mNameError\u001b[0m: name 'BK' is not defined"
     ]
    }
   ],
   "source": []
  },
  {
   "cell_type": "code",
   "execution_count": null,
   "metadata": {
    "collapsed": true
   },
   "outputs": [],
   "source": []
  }
 ],
 "metadata": {
  "anaconda-cloud": {},
  "kernelspec": {
   "display_name": "Python [conda root]",
   "language": "python",
   "name": "conda-root-py"
  },
  "language_info": {
   "codemirror_mode": {
    "name": "ipython",
    "version": 3
   },
   "file_extension": ".py",
   "mimetype": "text/x-python",
   "name": "python",
   "nbconvert_exporter": "python",
   "pygments_lexer": "ipython3",
   "version": "3.5.2"
  }
 },
 "nbformat": 4,
 "nbformat_minor": 1
}
